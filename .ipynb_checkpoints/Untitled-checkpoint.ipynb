{
 "cells": [
  {
   "cell_type": "code",
   "execution_count": 23,
   "metadata": {},
   "outputs": [],
   "source": [
    "from selenium import webdriver\n",
    "from selenium.webdriver.common.keys import Keys\n",
    "from bs4 import BeautifulSoup\n",
    "import re\n",
    "import pandas as pd\n",
    "import os\n",
    "import time\n",
    "from selenium.webdriver.support.ui import WebDriverWait\n",
    "from selenium.webdriver.support import expected_conditions as EC\n",
    "from selenium.webdriver.common.by import By"
   ]
  },
  {
   "cell_type": "code",
   "execution_count": 44,
   "metadata": {},
   "outputs": [],
   "source": [
    "url = 'https://www.alhasa.gov.sa/SitePages/GetObituary.aspx'\n",
    "\n",
    "# create a new Firefox session\n",
    "driver = webdriver.Chrome('D:/Documents/GitHub/SCFHS-Challenge/chromedriver.exe')\n",
    "driver.implicitly_wait(10)\n",
    "driver.get(url)\n",
    "urls = []"
   ]
  },
  {
   "cell_type": "code",
   "execution_count": 39,
   "metadata": {},
   "outputs": [],
   "source": [
    "from selenium.webdriver.common.by import By\n",
    "\n",
    "ee = driver.find_element_by_xpath('//*[@id=\"ctl00_SPWebPartManager1_g_f82b5b79_188a_4cdc_a21b_8d289061bf26_ctl00_CalendarBegin\"]')\n",
    "ee.send_keys('09252013')\n",
    "# driver.find_element(By.ID(\"ctl00_SPWebPartManager1_g_f82b5b79_188a_4cdc_a21b_8d289061bf26_ctl00_CalendarBegin\")).send"
   ]
  },
  {
   "cell_type": "code",
   "execution_count": null,
   "metadata": {},
   "outputs": [
    {
     "name": "stdout",
     "output_type": "stream",
     "text": [
      "page number  176\n",
      "page number  177\n",
      "page number  178\n",
      "page number  179\n",
      "page number  180\n"
     ]
    }
   ],
   "source": [
    "table_ = []\n",
    "death1 = []\n",
    "nextt = True\n",
    "i = 1\n",
    "while nextt:\n",
    "    try:\n",
    "        print('page number ', i)\n",
    "        soup_level1= BeautifulSoup(driver.page_source, 'lxml')\n",
    "        death1.append(soup_level1)\n",
    "        driver.find_element_by_xpath('//*[@id=\"ctl00_SPWebPartManager1_g_f82b5b79_188a_4cdc_a21b_8d289061bf26_ctl00_Pager_LbNext\"]').click()\n",
    "        i += 1\n",
    "    except:\n",
    "        nextt = False"
   ]
  },
  {
   "cell_type": "code",
   "execution_count": null,
   "metadata": {},
   "outputs": [],
   "source": [
    "death[-5]"
   ]
  },
  {
   "cell_type": "code",
   "execution_count": null,
   "metadata": {},
   "outputs": [],
   "source": [
    "names = []\n",
    "sex = []\n",
    "nationality = []\n",
    "age = []\n",
    "date_of_death = []\n",
    "hospital = [] \n",
    "license = []"
   ]
  },
  {
   "cell_type": "code",
   "execution_count": 13,
   "metadata": {},
   "outputs": [
    {
     "name": "stdout",
     "output_type": "stream",
     "text": [
      "\n"
     ]
    }
   ],
   "source": [
    "i = 0\n",
    "for table in death:\n",
    "    table = table.find('table', {'id': 'ctl00_SPWebPartManager1_g_f82b5b79_188a_4cdc_a21b_8d289061bf26_ctl00_grvResults'})\n",
    "    table = table.findAll('tr')\n",
    "    table = table[2::]\n",
    "#     table = [table[i:i + n] for i in range(0, len(table), n)]\n",
    "    for tr in table:\n",
    "        try:\n",
    "            names.append(tr.findAll('td')[0].text.strip())\n",
    "\n",
    "        except:\n",
    "            names.append('NA')\n",
    "        \n",
    "        try:\n",
    "            sex.append(tr.findAll('td')[1].text.strip())\n",
    "            \n",
    "        except:\n",
    "            sex.append('NA')\n",
    "        \n",
    "        try:\n",
    "            nationality.append(tr.findAll('td')[2].text.strip())\n",
    "        except:\n",
    "            nationality.append('NA')\n",
    "        \n",
    "        try:\n",
    "            age.append(tr.findAll('td')[3].text.strip())\n",
    "        except:\n",
    "            age.append('NA')\n",
    "        \n",
    "        try:\n",
    "            date_of_death.append(tr.findAll('td')[4].text.strip())\n",
    "        except:\n",
    "            date_of_death.append('NA')\n",
    "        \n",
    "        try:\n",
    "            hospital.append(tr.findAll('td')[5].text.strip())\n",
    "        except:\n",
    "            hospital.append('NA')\n",
    "        \n",
    "        try:\n",
    "            license.append(tr.findAll('td')[6].text.strip())\n",
    "        except:\n",
    "            license.append('NA')\n",
    "#      \n",
    "        "
   ]
  },
  {
   "cell_type": "code",
   "execution_count": null,
   "metadata": {},
   "outputs": [],
   "source": []
  },
  {
   "cell_type": "code",
   "execution_count": null,
   "metadata": {},
   "outputs": [],
   "source": [
    "//*[@id=\"ctl00_SPWebPartManager1_g_f82b5b79_188a_4cdc_a21b_8d289061bf26_ctl00_grvResults\"]"
   ]
  }
 ],
 "metadata": {
  "kernelspec": {
   "display_name": "Python 3",
   "language": "python",
   "name": "python3"
  },
  "language_info": {
   "codemirror_mode": {
    "name": "ipython",
    "version": 3
   },
   "file_extension": ".py",
   "mimetype": "text/x-python",
   "name": "python",
   "nbconvert_exporter": "python",
   "pygments_lexer": "ipython3",
   "version": "3.6.1"
  }
 },
 "nbformat": 4,
 "nbformat_minor": 2
}
