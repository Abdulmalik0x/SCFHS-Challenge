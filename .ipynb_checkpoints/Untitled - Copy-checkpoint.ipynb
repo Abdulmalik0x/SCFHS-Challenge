{
 "cells": [
  {
   "cell_type": "code",
   "execution_count": 34,
   "metadata": {},
   "outputs": [],
   "source": [
    "from selenium import webdriver\n",
    "from selenium.webdriver.common.keys import Keys\n",
    "from bs4 import BeautifulSoup\n",
    "import re\n",
    "import pandas as pd\n",
    "import os\n",
    "import time\n",
    "from selenium.webdriver.support.ui import WebDriverWait\n",
    "from selenium.webdriver.support import expected_conditions as EC\n",
    "from selenium.webdriver.common.by import By"
   ]
  },
  {
   "cell_type": "markdown",
   "metadata": {},
   "source": [
    "## Data Scrapping\n",
    "\n",
    "- To save time, we will take the data between 1400 - 1439 for all months (Data seems huge, some years will be droped).\n",
    "- Scraping code is taking chunks (1-20, 21- 40 ... changing the chunks manually).\n"
   ]
  },
  {
   "cell_type": "code",
   "execution_count": 51,
   "metadata": {},
   "outputs": [],
   "source": [
    "url = 'https://services.amana-md.gov.sa/eservicesite/Inq/DeathInquiry.aspx'\n",
    "\n",
    "# create a new Firefox session\n",
    "driver = webdriver.Chrome('D:/Documents/GitHub/SCFHS-Challenge/chromedriver.exe')\n",
    "driver.implicitly_wait(10)\n",
    "driver.get(url)\n",
    "urls = []"
   ]
  },
  {
   "cell_type": "code",
   "execution_count": 52,
   "metadata": {},
   "outputs": [],
   "source": [
    "from selenium.webdriver.support.ui import Select\n",
    "\n",
    "\n",
    "select_from_d = Select(driver.find_element_by_id('ctl00_ContentPlaceHolder1_cboDFrom'))\n",
    "select_from_m = Select(driver.find_element_by_id('ctl00_ContentPlaceHolder1_cboMFrom')) \n",
    "select_from_y = Select(driver.find_element_by_id('ctl00_ContentPlaceHolder1_cboYFrom'))  \n",
    "\n",
    "select_to_d = Select(driver.find_element_by_id('ctl00_ContentPlaceHolder1_cboDTo'))\n",
    "select_to_m = Select(driver.find_element_by_id('ctl00_ContentPlaceHolder1_cboMTo')) \n",
    "select_to_y = Select(driver.find_element_by_id('ctl00_ContentPlaceHolder1_cboYTo'))  \n",
    "\n",
    "\n",
    "    \n",
    "#     select_from_d.select_by_visible_text('01')\n",
    "select_from_d.select_by_value('01')\n",
    "select_from_m.select_by_value('01')\n",
    "select_from_y.select_by_value('1419')\n",
    "\n",
    "select_to_d.select_by_value('30')\n",
    "select_to_m.select_by_value('12')\n",
    "select_to_y.select_by_value('1439')\n",
    "\n",
    "driver.find_element_by_id('ctl00_ContentPlaceHolder1_btnSubmit').click()\n"
   ]
  },
  {
   "cell_type": "code",
   "execution_count": 53,
   "metadata": {},
   "outputs": [
    {
     "name": "stdout",
     "output_type": "stream",
     "text": [
      "382\n"
     ]
    }
   ],
   "source": [
    "table = driver.find_elements_by_xpath('//*[@id=\"ctl00_ContentPlaceHolder1_dgDeath\"]/tbody/tr/*')\n",
    "print(len(table))\n",
    "# deleting the head and the last row for iteration\n",
    "table = table[1:len(table) -1]\n"
   ]
  },
  {
   "cell_type": "code",
   "execution_count": 54,
   "metadata": {},
   "outputs": [],
   "source": [
    "# devide the list by the number of feature per rows (5)\n",
    "n = 5\n",
    "table = [table[i:i + n] for i in range(0, len(table), n)]"
   ]
  },
  {
   "cell_type": "code",
   "execution_count": null,
   "metadata": {},
   "outputs": [],
   "source": [
    "names = []\n",
    "sex = []\n",
    "nationality = []\n",
    "age = []\n",
    "date_of_death = []"
   ]
  },
  {
   "cell_type": "code",
   "execution_count": null,
   "metadata": {},
   "outputs": [],
   "source": [
    "pages = driver.find_elements_by_xpath('//*[@id=\"ctl00_ContentPlaceHolder1_dgDeath\"]/tbody/tr[78]/td/a')\n"
   ]
  },
  {
   "cell_type": "code",
   "execution_count": null,
   "metadata": {},
   "outputs": [
    {
     "data": {
      "text/plain": [
       "'3'"
      ]
     },
     "execution_count": 57,
     "metadata": {},
     "output_type": "execute_result"
    }
   ],
   "source": [
    "pages[1].text"
   ]
  },
  {
   "cell_type": "code",
   "execution_count": null,
   "metadata": {},
   "outputs": [],
   "source": [
    "# driver.find_element_by_link_text('1').click()"
   ]
  },
  {
   "cell_type": "code",
   "execution_count": null,
   "metadata": {},
   "outputs": [
    {
     "name": "stdout",
     "output_type": "stream",
     "text": [
      "Current page : 1\n",
      "Length of pages list :  1\n",
      "Click  2\n",
      "\n",
      "Current page : 2\n",
      "Length of pages list :  2\n",
      "Click  3\n",
      "\n",
      "Current page : 3\n",
      "Length of pages list :  3\n",
      "Click  4\n",
      "\n",
      "Current page : 4\n",
      "Length of pages list :  4\n",
      "Click  5\n",
      "\n",
      "Current page : 5\n",
      "Length of pages list :  5\n",
      "Click  6\n",
      "\n",
      "Current page : 6\n",
      "Length of pages list :  6\n",
      "Click  7\n",
      "\n",
      "Current page : 7\n",
      "Length of pages list :  7\n",
      "Click  8\n",
      "\n",
      "Current page : 8\n",
      "Length of pages list :  8\n",
      "Click  9\n",
      "\n",
      "Current page : 9\n",
      "Length of pages list :  9\n",
      "Click  10\n",
      "\n",
      "Current page : 10\n",
      "Length of pages list :  10\n",
      "Click  11\n",
      "\n",
      "Current page : 11\n",
      "Length of pages list :  11\n",
      "Click  12\n",
      "\n",
      "Current page : 12\n",
      "Length of pages list :  12\n",
      "Click  13\n",
      "\n",
      "Current page : 13\n",
      "Length of pages list :  13\n",
      "Click  14\n",
      "\n",
      "Current page : 14\n",
      "Length of pages list :  14\n",
      "Click  15\n",
      "\n",
      "Current page : 15\n",
      "Length of pages list :  15\n",
      "Click  16\n",
      "\n",
      "Current page : 16\n",
      "Length of pages list :  16\n",
      "Click  17\n",
      "\n",
      "Current page : 17\n",
      "Length of pages list :  17\n",
      "Click  18\n",
      "\n",
      "Current page : 18\n",
      "Length of pages list :  18\n",
      "Click  19\n",
      "\n",
      "Current page : 19\n",
      "Length of pages list :  19\n",
      "Click  20\n",
      "\n",
      "Current page : 20\n",
      "Length of pages list :  20\n",
      "Click  ...\n",
      "\n",
      "Current page : 21\n",
      "Length of pages list :  21\n",
      "Click  22\n",
      "\n",
      "Current page : 22\n",
      "Length of pages list :  22\n",
      "Click  23\n",
      "\n"
     ]
    }
   ],
   "source": [
    "table_ = []\n",
    "death = []\n",
    "i = 0\n",
    "chunk = 1\n",
    "first = True\n",
    "nextt = True\n",
    "while nextt:\n",
    "    try:\n",
    "        #Selenium hands the page source to Beautiful Soup\n",
    "        soup_level1= BeautifulSoup(driver.page_source, 'lxml')\n",
    "        death.append(soup_level1)\n",
    "\n",
    "        page_ = driver.find_elements_by_xpath('//*[@id=\"ctl00_ContentPlaceHolder1_dgDeath\"]/tbody/tr[78]/td/a')[i]\n",
    "        print('Current page :', driver.find_elements_by_xpath('//*[@id=\"ctl00_ContentPlaceHolder1_dgDeath\"]/tbody/tr[78]/td/span')[0].text)\n",
    "        print('Length of pages list : ', len(death))\n",
    "        print('Click ', page_.text)\n",
    "        print()\n",
    "        if page_.text != '...':\n",
    "            driver.find_element_by_link_text(page_.text).click()\n",
    "        \n",
    "    except:\n",
    "        \n",
    "        print('error')\n",
    "        pass\n",
    "    \n",
    "    i += 1\n",
    "    \n",
    "    if (i > 19) & (first == True):\n",
    "        # in the first iter, from 0 to 18 (len is 20)\n",
    "        driver.find_element_by_link_text('...').click()\n",
    "        first = False\n",
    "        i = 1\n",
    "    elif (i > 20) & (first == False):\n",
    "        driver.find_elements_by_xpath('//*[@id=\"ctl00_ContentPlaceHolder1_dgDeath\"]/tbody/tr[78]/td/a')[-1].click()\n",
    "        i = 1\n",
    "    else: \n",
    "        pass\n",
    "    \n",
    "    \n",
    "    if len(driver.find_elements_by_xpath('//*[@id=\"ctl00_ContentPlaceHolder1_dgDeath\"]/tbody/tr[78]/td/a')) < 21 & (first == False):\n",
    "        nextt = False\n",
    "        break"
   ]
  },
  {
   "cell_type": "code",
   "execution_count": null,
   "metadata": {},
   "outputs": [],
   "source": [
    "len(death)"
   ]
  },
  {
   "cell_type": "code",
   "execution_count": null,
   "metadata": {},
   "outputs": [],
   "source": [
    "i = 0\n",
    "for table in death:\n",
    "    table = table.find('table', {'id': 'ctl00_ContentPlaceHolder1_dgDeath'})\n",
    "    table = table.findAll('tr')\n",
    "    table = table[2::]\n",
    "#     table = [table[i:i + n] for i in range(0, len(table), n)]\n",
    "    for tr in table:\n",
    "        try:\n",
    "            names.append(tr.findAll('td')[0].text.strip())\n",
    "\n",
    "        except:\n",
    "            names.append('NA')\n",
    "        \n",
    "        try:\n",
    "            sex.append(tr.findAll('td')[1].text.strip())\n",
    "            \n",
    "        except:\n",
    "            sex.append('NA')\n",
    "        \n",
    "        try:\n",
    "            nationality.append(tr.findAll('td')[2].text.strip())\n",
    "        except:\n",
    "            nationality.append('NA')\n",
    "        \n",
    "        try:\n",
    "            age.append(tr.findAll('td')[3].text.strip())\n",
    "        except:\n",
    "            age.append('NA')\n",
    "        \n",
    "        try:\n",
    "            date_of_death.append(tr.findAll('td')[4].text.strip())\n",
    "        except:\n",
    "            date_of_death.append('NA')\n",
    "        \n",
    "#      \n",
    "        "
   ]
  },
  {
   "cell_type": "code",
   "execution_count": null,
   "metadata": {},
   "outputs": [],
   "source": [
    "import pandas as pd\n",
    "\n",
    "df = pd.DataFrame({'name': names, 'sex': sex, 'nationality': nationality, 'age': age, 'date_of_death': date_of_death})\n",
    "df.to_csv('20yrs.csv',  encoding='utf-8-sig')"
   ]
  },
  {
   "cell_type": "code",
   "execution_count": null,
   "metadata": {},
   "outputs": [],
   "source": [
    "import os\n",
    "# os.chdir('./SCFHS-Challenge')\n",
    "os.getcwd()\n",
    "first = pd.read_csv('./1-20.csv')\n",
    "scnd = pd.read_csv('./21-200.csv')\n"
   ]
  },
  {
   "cell_type": "code",
   "execution_count": null,
   "metadata": {},
   "outputs": [],
   "source": [
    "# load all dataset, \n",
    "filenames = ['1-20.csv', '21-200.csv', '201-330.csv']\n",
    "dfs = [pd.read_csv(filename,) for filename in filenames]\n",
    "# dfs[0].join(dfs[1:])\n",
    "df_merge = pd.concat(dfs, axis=0)\n",
    "\n",
    "# pd.join(first, scnd, third, forth, fifth, sixth)"
   ]
  },
  {
   "cell_type": "code",
   "execution_count": null,
   "metadata": {},
   "outputs": [],
   "source": [
    "len(df_merge)"
   ]
  },
  {
   "cell_type": "markdown",
   "metadata": {},
   "source": [
    "# Data cleaning"
   ]
  },
  {
   "cell_type": "markdown",
   "metadata": {},
   "source": [
    "- Check missing values, drop missing in date only since it's the most important thing."
   ]
  },
  {
   "cell_type": "code",
   "execution_count": null,
   "metadata": {},
   "outputs": [],
   "source": [
    "# Show all NaN\n",
    "df_merge[pd.isnull(df_merge).any(axis=1)] \n",
    "\n",
    "# Check missing in Date only\n",
    "df_merge['date_of_death'].isnull().any() \n",
    "df_merge[pd.isnull(df_merge['date_of_death'])][:5]"
   ]
  },
  {
   "cell_type": "code",
   "execution_count": null,
   "metadata": {},
   "outputs": [],
   "source": [
    "# Drop Nan in date\n",
    "\n",
    "import numpy as np\n",
    "df_merge.dropna(subset=['date_of_death'], inplace=True)\n",
    "\n",
    "df_merge[df_merge['date_of_death'] == np.nan]"
   ]
  },
  {
   "cell_type": "code",
   "execution_count": null,
   "metadata": {},
   "outputs": [],
   "source": [
    "# Drop unnecessary columns\n",
    "df_merge.columns\n",
    "df_merge.drop(['Unnamed: 0'], axis=1, inplace=True)"
   ]
  },
  {
   "cell_type": "code",
   "execution_count": null,
   "metadata": {},
   "outputs": [],
   "source": [
    "# Can't convert it to datetime type because it's out of range (1600 is the limit)\n",
    "# df_merge['date_of_death'] = pd.to_datetime(df_merge.date_of_death)\n"
   ]
  },
  {
   "cell_type": "code",
   "execution_count": null,
   "metadata": {},
   "outputs": [],
   "source": [
    "# Check for duplicates, i'll drop duplicate by name and date since we have many similiarities in name in saudi arabia.\n",
    "\n",
    "df_merge[df_merge.duplicated(['name', 'date_of_death'])] # duplicates are 394\n",
    "df_merge.drop_duplicates(inplace=True)\n",
    "df_merge[df_merge.duplicated()]"
   ]
  },
  {
   "cell_type": "markdown",
   "metadata": {},
   "source": [
    "# Feature engineering"
   ]
  },
  {
   "cell_type": "code",
   "execution_count": null,
   "metadata": {},
   "outputs": [],
   "source": [
    "# I will extract (y, m) manually\n",
    "\n",
    "df_merge['year'] = df_merge['date_of_death'].apply(lambda x: x.split('/')[0])\n",
    "df_merge['month'] = df_merge['date_of_death'].apply(lambda x: x.split('/')[1])\n",
    "df_merge['day'] = df_merge['date_of_death'].apply(lambda x: x.split('/')[2])\n",
    "\n",
    "# df_merge['date_of_death'].apply(lambda x: pd.to_datetime(str(x)))\n",
    "# df_merge.date_of_death[1].split('/')\n",
    "df_merge.month.replace({'01': 1, '02': 2, '03':3, '04':4,'05':5 ,'06':6, '07':7,'08':8, '09': 9 }, inplace=True)\n",
    "df_merge.day.replace({'01': 1, '02': 2, '03':3, '04':4,'05':5 ,'06':6, '07':7,'08':8, '09': 9 }, inplace=True)\n",
    "\n",
    "\n",
    "df_merge['year'] = df_merge['year'].astype('int32')\n",
    "df_merge['month'] = df_merge['month'].astype('int32')\n",
    "df_merge['day'] = df_merge['day'].astype('int32')"
   ]
  },
  {
   "cell_type": "code",
   "execution_count": null,
   "metadata": {},
   "outputs": [],
   "source": [
    "df_merge.month.value_counts()"
   ]
  },
  {
   "cell_type": "code",
   "execution_count": null,
   "metadata": {},
   "outputs": [],
   "source": [
    "len(df_merge)"
   ]
  },
  {
   "cell_type": "code",
   "execution_count": null,
   "metadata": {},
   "outputs": [],
   "source": [
    "df_merge_shaban = df_merge['month']\n",
    "df_merge_others = df_merge[df_merge['month'] != 8].month\n",
    "# df_merge_others"
   ]
  },
  {
   "cell_type": "markdown",
   "metadata": {},
   "source": [
    "# EDA"
   ]
  },
  {
   "cell_type": "code",
   "execution_count": null,
   "metadata": {},
   "outputs": [],
   "source": [
    "# Max deaths happend in which month of each year?\n",
    "# Expected result should be near one if deaths across months are equals.\n",
    "\n",
    "# Solution by drwing bar chart of deaths by month across all years (10 chart)"
   ]
  },
  {
   "cell_type": "code",
   "execution_count": null,
   "metadata": {},
   "outputs": [],
   "source": [
    "# No of deaths by year (line plot)"
   ]
  },
  {
   "cell_type": "code",
   "execution_count": null,
   "metadata": {},
   "outputs": [],
   "source": [
    "# Average deaths per month (No/12), and No of death in Shaban "
   ]
  },
  {
   "cell_type": "code",
   "execution_count": null,
   "metadata": {},
   "outputs": [],
   "source": []
  },
  {
   "cell_type": "markdown",
   "metadata": {},
   "source": []
  },
  {
   "cell_type": "code",
   "execution_count": null,
   "metadata": {},
   "outputs": [],
   "source": [
    "import matplotlib.pyplot as plt\n",
    "%matplotlib inline\n",
    "\n",
    "plt.hist(df_merge.month, bins=12 );"
   ]
  },
  {
   "cell_type": "markdown",
   "metadata": {},
   "source": [
    "# Modeling "
   ]
  },
  {
   "cell_type": "code",
   "execution_count": null,
   "metadata": {},
   "outputs": [],
   "source": [
    "# Compute the mean of all months except Shaban, and Shaban month"
   ]
  },
  {
   "cell_type": "code",
   "execution_count": null,
   "metadata": {},
   "outputs": [],
   "source": [
    "from scipy import stats\n",
    "\n",
    "# Control is all month including Shaban\n",
    "# experimental is all month deaths without Shaban\n",
    "control = df_merge[df_merge['month'] != 8].month\n",
    "experimental = df_merge[df_merge['month'] == 8].month\n",
    "\n",
    "\n",
    "control.mean(), experimental.mean(), experimental.mean() - control.mean()\n"
   ]
  },
  {
   "cell_type": "code",
   "execution_count": null,
   "metadata": {},
   "outputs": [],
   "source": [
    "df_merge.groupby(['year', 'month']).count()['name']"
   ]
  },
  {
   "cell_type": "code",
   "execution_count": null,
   "metadata": {},
   "outputs": [],
   "source": [
    "# Fast way with scipy.stats\n",
    "t_test_result = stats.ttest_ind(experimental, control, equal_var=False)\n",
    "t_statistic = t_test_result[0]\n",
    "t_test_result.statistic, t_test_result.pvalue\n",
    "control.std(), experimental.std()\n",
    "sum(experimental), sum(control)"
   ]
  },
  {
   "cell_type": "code",
   "execution_count": null,
   "metadata": {},
   "outputs": [],
   "source": [
    "t_test_result"
   ]
  },
  {
   "cell_type": "code",
   "execution_count": null,
   "metadata": {},
   "outputs": [],
   "source": [
    "# Two tailed test to test the hypotheses and alternative\n",
    "left_tail = stats.t.cdf(t_statistic, len(experimental) + len(control) - 2, 0, 1)\n",
    "right_tail = 1 - stats.t.cdf(-t_statistic, len(experimental) + len(control) - 2, 0, 1) # minus because the other part of the curve\n",
    "p_value = left_tail + right_tail\n",
    "p_value"
   ]
  },
  {
   "cell_type": "code",
   "execution_count": null,
   "metadata": {},
   "outputs": [],
   "source": [
    "# H0 : Muslim community die evenly or the same across all year months.\n",
    "# H1 : Muslim community think people tend to die more (often) in the month of Shaban."
   ]
  },
  {
   "cell_type": "code",
   "execution_count": null,
   "metadata": {},
   "outputs": [],
   "source": []
  },
  {
   "cell_type": "code",
   "execution_count": null,
   "metadata": {},
   "outputs": [],
   "source": []
  }
 ],
 "metadata": {
  "kernelspec": {
   "display_name": "Python 3",
   "language": "python",
   "name": "python3"
  },
  "language_info": {
   "codemirror_mode": {
    "name": "ipython",
    "version": 3
   },
   "file_extension": ".py",
   "mimetype": "text/x-python",
   "name": "python",
   "nbconvert_exporter": "python",
   "pygments_lexer": "ipython3",
   "version": "3.6.1"
  }
 },
 "nbformat": 4,
 "nbformat_minor": 2
}
